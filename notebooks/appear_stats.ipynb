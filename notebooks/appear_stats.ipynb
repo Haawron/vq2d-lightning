{
 "cells": [
  {
   "cell_type": "code",
   "execution_count": 34,
   "metadata": {},
   "outputs": [],
   "source": [
    "import sys\n",
    "sys.path.append('..')\n",
    "import json\n",
    "from pathlib import Path\n",
    "from collections import defaultdict\n",
    "\n",
    "import torch\n",
    "import numpy as np\n",
    "import decord\n",
    "from PIL import Image\n",
    "import matplotlib.pyplot as plt\n",
    "import seaborn as sns\n",
    "\n",
    "from ltvu.structures import ResponseTrack\n",
    "from ltvu.metrics import compute_tious, compute_stious"
   ]
  },
  {
   "cell_type": "code",
   "execution_count": 29,
   "metadata": {},
   "outputs": [
    {
     "data": {
      "text/plain": [
       "(4504, 4504, 4504)"
      ]
     },
     "execution_count": 29,
     "metadata": {},
     "output_type": "execute_result"
    }
   ],
   "source": [
    "p_pred = Path(\"43634_results.json.gz\")\n",
    "p_ann = Path(\"../data/vq_v2_val_anno.json\")\n",
    "all_anns = json.load(p_ann.open())\n",
    "all_preds_stratified = json.load(p_pred.open())\n",
    "\n",
    "quid2pred, quid2pos, quid2ann = defaultdict(list), {}, {}\n",
    "for ann in all_anns:\n",
    "    qset_uuid = f'{ann[\"annotation_uid\"]}_{ann[\"query_set\"]}'\n",
    "    ann['bboxes'] = ResponseTrack.from_json(ann)\n",
    "    quid2pos[qset_uuid] = ann['bboxes']\n",
    "    quid2ann[qset_uuid] = ann\n",
    "\n",
    "for pred_video in all_preds_stratified['results']['videos']:\n",
    "    video_uid = pred_video['video_uid']\n",
    "    for pred_clip in pred_video['clips']:\n",
    "        clip_uid = pred_clip['clip_uid']\n",
    "        for pred_qsets in pred_clip['predictions']:\n",
    "            annotation_uid = pred_qsets['annotation_uid']\n",
    "            for qset_id, qset in pred_qsets['query_sets'].items():\n",
    "                qset_uuid = f'{annotation_uid}_{qset_id}'\n",
    "                if qset_uuid in quid2pos:\n",
    "                    quid2pred[qset_uuid].append(ResponseTrack.from_json(qset))\n",
    "\n",
    "len(all_anns), len(quid2pred), len(quid2pos)"
   ]
  },
  {
   "cell_type": "code",
   "execution_count": 18,
   "metadata": {},
   "outputs": [
    {
     "data": {
      "text/plain": [
       "([('0040187f-4627-4bfa-b141-89c1322fcd22_1', 0.5),\n",
       "  ('0040187f-4627-4bfa-b141-89c1322fcd22_2', 0.8),\n",
       "  ('0040187f-4627-4bfa-b141-89c1322fcd22_3', 0.4444444444444444),\n",
       "  ('00c056f0-09d1-42df-9d5a-9752cb899567_1', 0.0),\n",
       "  ('00c056f0-09d1-42df-9d5a-9752cb899567_2', 0.16666666666666666),\n",
       "  ('00c056f0-09d1-42df-9d5a-9752cb899567_3', 0.875),\n",
       "  ('00c70204-6e59-4a45-a5b3-71446068fa07_1', 0.0),\n",
       "  ('00c70204-6e59-4a45-a5b3-71446068fa07_2', 0.0),\n",
       "  ('00c70204-6e59-4a45-a5b3-71446068fa07_3', 0.0),\n",
       "  ('00cc8ca1-4076-4b51-b313-fc47e8734bf9_1', 0.9230769230769231)],\n",
       " [('0040187f-4627-4bfa-b141-89c1322fcd22_1', 0.4711079852709515),\n",
       "  ('0040187f-4627-4bfa-b141-89c1322fcd22_2', 0.5504340235095683),\n",
       "  ('0040187f-4627-4bfa-b141-89c1322fcd22_3', 0.323227716257078),\n",
       "  ('00c056f0-09d1-42df-9d5a-9752cb899567_1', 0.0),\n",
       "  ('00c056f0-09d1-42df-9d5a-9752cb899567_2', 0.025636377817312563),\n",
       "  ('00c056f0-09d1-42df-9d5a-9752cb899567_3', 0.5503706742033688),\n",
       "  ('00c70204-6e59-4a45-a5b3-71446068fa07_1', 0.0),\n",
       "  ('00c70204-6e59-4a45-a5b3-71446068fa07_2', 0.0),\n",
       "  ('00c70204-6e59-4a45-a5b3-71446068fa07_3', 0.0),\n",
       "  ('00cc8ca1-4076-4b51-b313-fc47e8734bf9_1', 0.526996186527287)])"
      ]
     },
     "execution_count": 18,
     "metadata": {},
     "output_type": "execute_result"
    }
   ],
   "source": [
    "tious: dict[str, float] = compute_tious(quid2pred, quid2pos)\n",
    "stious: dict[str, float] = compute_stious(quid2pred, quid2pos)\n",
    "\n",
    "list(tious.items())[:10], list(stious.items())[:10]"
   ]
  },
  {
   "cell_type": "code",
   "execution_count": 47,
   "metadata": {},
   "outputs": [
    {
     "data": {
      "text/plain": [
       "([('e23ed37c-b043-4932-a363-d72458699748_3', 4.725392073387891),\n",
       "  ('f106a17a-f2dd-4d41-8d00-1bc6a248a90e_2', 4.651167975974567),\n",
       "  ('e6107bbf-5d5d-46c5-97b2-495e7a660bb8_1', 4.64893896997782),\n",
       "  ('1a6212d0-b206-421d-8cdf-1715d97d4da0_2', 4.631869892675029),\n",
       "  ('5db070ab-7e8c-4843-acd4-56807e1465d9_1', 4.6228409751474535),\n",
       "  ('02c623c1-a84f-4d2b-8b0f-f65cd5e5f52b_1', 4.589912356819039),\n",
       "  ('e543d7f0-e18e-4ce1-9762-a641442fbb16_2', 4.576529621195824),\n",
       "  ('8337f606-ea6c-47b3-9c22-b072b621f4cb_1', 4.575890423945444),\n",
       "  ('38262098-51dd-4217-9e5c-b9ee478c1859_1', 4.571400565236097),\n",
       "  ('665afaf7-a98c-4ab2-9d25-20107f398d44_3', 4.570170107067291)],\n",
       " [('c3dc2a53-91ea-4be9-861e-8c1013e153ef_3', 0.0),\n",
       "  ('43f78585-bdbf-48e4-8cee-f747db34c0f4_3', 0.0),\n",
       "  ('bd6f8d17-aa68-4838-a8da-0b7557be11d7_1', 0.0),\n",
       "  ('fcd8b48f-5f65-4c54-ad3c-dad368790dc4_2', 0.0),\n",
       "  ('2b21caa8-42e3-46ed-a7b6-7e47c0b03c98_1', 0.0),\n",
       "  ('468f8fa3-21ee-4831-8cd3-4ee37ca51487_2', 0.0),\n",
       "  ('ec969346-07e8-4bb8-b7a5-5abb7807989e_3', 0.0),\n",
       "  ('ccf8a6b5-b774-4704-b00d-3ea6075cf9ab_1', 0.0),\n",
       "  ('54627b6f-4367-4cdb-bd2a-a2ffa25ea73e_1', 0.0),\n",
       "  ('8fbabbe4-81f8-4336-aecd-59325392658b_3', 0.0)])"
      ]
     },
     "execution_count": 47,
     "metadata": {},
     "output_type": "execute_result"
    }
   ],
   "source": [
    "iousums = {}\n",
    "quids = list(tious.keys())\n",
    "for quid in quids:\n",
    "    iousums[quid] = tious[quid] + 4*stious[quid]\n",
    "iousums = list(iousums.items())\n",
    "iousums = [iousums[idx] for idx in np.random.permutation(len(iousums))]  # to shuffle 0-valued ious at the end\n",
    "iousums = sorted(iousums, key=lambda x: x[1], reverse=True)\n",
    "iousums[:10], iousums[-10:]"
   ]
  },
  {
   "cell_type": "code",
   "execution_count": 55,
   "metadata": {},
   "outputs": [],
   "source": [
    "# p_clips_dir = Path(\"/data/datasets/ego4d_data/v2/clips/\")\n",
    "p_clips_dir = Path(\"/data/datasets/ego4d_data/v2/vq2d_clips/\")\n",
    "num = 100\n",
    "\n",
    "frames_easy = []\n",
    "for i in range(num):\n",
    "    ann = quid2ann[iousums[i][0]]\n",
    "    clip_uid = ann['clip_uid']\n",
    "    rt_ext = ann['response_track_valid_range']\n",
    "    rt_mid = (rt_ext[0] + rt_ext[1]) // 2\n",
    "    vr = decord.VideoReader(str(p_clips_dir / f'{clip_uid}.mp4'))\n",
    "    frame = vr[rt_mid].asnumpy()\n",
    "    frames_easy.append(frame)\n",
    "# frames_easy = np.concat(frames_easy, axis=1)\n",
    "\n",
    "frames_hard = []\n",
    "for i in range(-1, -num, -1):\n",
    "    ann = quid2ann[iousums[i][0]]\n",
    "    clip_uid = ann['clip_uid']\n",
    "    rt_ext = ann['response_track_valid_range']\n",
    "    rt_mid = (rt_ext[0] + rt_ext[1]) // 2\n",
    "    vr = decord.VideoReader(str(p_clips_dir / f'{clip_uid}.mp4'))\n",
    "    frame = vr[rt_mid].asnumpy()\n",
    "    frames_hard.append(frame)\n",
    "# frames_hard = np.concat(frames_hard, axis=1)"
   ]
  },
  {
   "cell_type": "code",
   "execution_count": null,
   "metadata": {},
   "outputs": [],
   "source": [
    "stride = 10\n",
    "for i in range(num//stride):\n",
    "    display(Image.fromarray(np.concat(frames_easy[stride*i:stride*(i+1)], axis=1)))\n"
   ]
  },
  {
   "cell_type": "code",
   "execution_count": null,
   "metadata": {},
   "outputs": [],
   "source": [
    "\n",
    "for i in range(num//stride):\n",
    "    display(Image.fromarray(np.concat(frames_hard[stride*i:stride*(i+1)], axis=1)))"
   ]
  }
 ],
 "metadata": {
  "kernelspec": {
   "display_name": "vq2d",
   "language": "python",
   "name": "python3"
  },
  "language_info": {
   "codemirror_mode": {
    "name": "ipython",
    "version": 3
   },
   "file_extension": ".py",
   "mimetype": "text/x-python",
   "name": "python",
   "nbconvert_exporter": "python",
   "pygments_lexer": "ipython3",
   "version": "3.12.4"
  }
 },
 "nbformat": 4,
 "nbformat_minor": 2
}
