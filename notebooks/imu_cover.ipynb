{
 "cells": [
  {
   "cell_type": "code",
   "execution_count": 1,
   "metadata": {},
   "outputs": [],
   "source": [
    "from pathlib import Path"
   ]
  },
  {
   "cell_type": "code",
   "execution_count": 24,
   "metadata": {},
   "outputs": [],
   "source": [
    "p_imu_dir = Path('/data/datasets/ego4d_data/v2/imu/')\n",
    "imu_video_uids = set([p.stem for p in p_imu_dir.glob('*.csv') if len(p.stem) == 36])\n",
    "imu_video_uids -= {'ea27cc27-037f-4c63-b418-faea630faf8e', '4a08e95b-cb52-4621-b679-87f617893e19', '3d67bdde-232a-442e-a29d-56f8d1a323bf', '2e96ebef-240a-4c8f-8d75-405d2d671021', 'a3beb693-7e2a-4d6f-8658-88d92b453d57'}  # unavailable videos"
   ]
  },
  {
   "cell_type": "code",
   "execution_count": 25,
   "metadata": {},
   "outputs": [
    {
     "data": {
      "text/plain": [
       "9582"
      ]
     },
     "execution_count": 25,
     "metadata": {},
     "output_type": "execute_result"
    }
   ],
   "source": [
    "p_videos_dir = Path('/data/datasets/ego4d_data/v2/full_scale_parts')\n",
    "all_video_uids = set([p.stem for p in p_videos_dir.glob('**/*.mp4')])\n",
    "len(all_video_uids)"
   ]
  },
  {
   "cell_type": "code",
   "execution_count": 28,
   "metadata": {},
   "outputs": [
    {
     "data": {
      "text/plain": [
       "(2286, '-->', 1, {'b0bef990-651b-42f2-aa99-b11dcde5d678'})"
      ]
     },
     "execution_count": 28,
     "metadata": {},
     "output_type": "execute_result"
    }
   ],
   "source": [
    "len(imu_video_uids), '-->', len(imu_video_uids - all_video_uids), imu_video_uids - all_video_uids"
   ]
  },
  {
   "cell_type": "code",
   "execution_count": 27,
   "metadata": {},
   "outputs": [],
   "source": [
    "with open('imu_video_uids.csv', 'w') as f:\n",
    "    output = ' '.join(sorted(imu_video_uids))\n",
    "    f.write(output)"
   ]
  },
  {
   "cell_type": "code",
   "execution_count": 38,
   "metadata": {},
   "outputs": [
    {
     "data": {
      "text/plain": [
       "(1726,\n",
       " '-->',\n",
       " 1289,\n",
       " ['082db032-f3f2-408b-a116-84d62f673915',\n",
       "  '25e2b694-d192-4e3b-b8e9-4c30c94613f3',\n",
       "  '745aef91-750a-48aa-9464-88802a2a7a40',\n",
       "  '2422d726-0286-48bc-96a6-fe29c45cc409',\n",
       "  '7c4f8ef4-c126-46b7-8fa9-1b2daf5b41de'])"
      ]
     },
     "execution_count": 38,
     "metadata": {},
     "output_type": "execute_result"
    }
   ],
   "source": [
    "vq_video_uids = set(Path('../data/video_uids.txt').read_text().split())\n",
    "len(vq_video_uids), '-->', len(vq_video_uids - imu_video_uids), list(vq_video_uids - imu_video_uids)[:5]"
   ]
  }
 ],
 "metadata": {
  "kernelspec": {
   "display_name": "vq2d",
   "language": "python",
   "name": "python3"
  },
  "language_info": {
   "codemirror_mode": {
    "name": "ipython",
    "version": 3
   },
   "file_extension": ".py",
   "mimetype": "text/x-python",
   "name": "python",
   "nbconvert_exporter": "python",
   "pygments_lexer": "ipython3",
   "version": "3.12.4"
  }
 },
 "nbformat": 4,
 "nbformat_minor": 2
}
