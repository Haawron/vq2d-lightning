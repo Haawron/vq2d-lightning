{
 "cells": [
  {
   "cell_type": "code",
   "execution_count": 6,
   "metadata": {},
   "outputs": [
    {
     "name": "stdout",
     "output_type": "stream",
     "text": [
      "Top 3 similarities for each batch:\n",
      " tensor([[0.0550],\n",
      "        [0.0669],\n",
      "        [0.0794]])\n",
      "Indices of the top 3 similarities for each batch:\n",
      " tensor([[ 7],\n",
      "        [ 9],\n",
      "        [16]])\n"
     ]
    }
   ],
   "source": [
    "import torch\n",
    "import torch.nn.functional as F\n",
    "\n",
    "# Example tensors of shape [3, 32, 768]\n",
    "tensor1 = torch.randn(3, 32, 768)\n",
    "tensor2 = torch.randn(3, 32, 768)\n",
    "\n",
    "# Compute cosine similarity across the last dimension (dim=2)\n",
    "similarity = F.cosine_similarity(tensor1, tensor2, dim=2)  # Shape: [3, 32]\n",
    "\n",
    "# Find the indices of the top 3 highest similarity values for each batch\n",
    "top_k_values, top_k_indices = torch.topk(similarity, k=1, dim=1)\n",
    "\n",
    "print(\"Top 3 similarities for each batch:\\n\", top_k_values)\n",
    "print(\"Indices of the top 3 similarities for each batch:\\n\", top_k_indices)\n"
   ]
  },
  {
   "cell_type": "code",
   "execution_count": null,
   "metadata": {},
   "outputs": [],
   "source": [
    "import torch\n",
    "\n",
    "# Creating a random tensor `sim` with shape [3, 30]\n",
    "sim = torch.randn(3, 30)\n",
    "\n",
    "# Print the sim tensor for reference\n",
    "print(\"sim tensor:\\n\", sim)\n",
    "\n",
    "# Example for sim_mode == 'max'\n",
    "sim_mode = 'max'\n",
    "if sim_mode == 'max':\n",
    "    _, top_sim_idx = sim.topk(1, dim=-1)  # [3, 1]\n",
    "    print(\"\\nTop index for max similarity (shape [3, 1]):\\n\", top_sim_idx)\n",
    "elif sim_mode == 'min':\n",
    "    top_sim_idx = sim.argmin(dim=-1, keepdim=True)  # [3, 1]\n",
    "    print(\"\\nTop index for min similarity (shape [3, 1]):\\n\", top_sim_idx)\n",
    "\n",
    "# Example for sim_mode == 'min'\n",
    "sim_mode = 'min'\n",
    "if sim_mode == 'max':\n",
    "    _, top_sim_idx = sim.topk(1, dim=-1)  # [3, 1]\n",
    "    print(\"\\nTop index for max similarity (shape [3, 1]):\\n\", top_sim_idx)\n",
    "elif sim_mode == 'min':\n",
    "    top_sim_idx = sim.argmin(dim=-1, keepdim=True)  # [3, 1]\n",
    "    print(\"\\nTop index for min similarity (shape [3, 1]):\\n\", top_sim_idx)\n"
   ]
  },
  {
   "cell_type": "code",
   "execution_count": null,
   "metadata": {},
   "outputs": [],
   "source": []
  }
 ],
 "metadata": {
  "kernelspec": {
   "display_name": "vq2d-lightning",
   "language": "python",
   "name": "python3"
  },
  "language_info": {
   "codemirror_mode": {
    "name": "ipython",
    "version": 3
   },
   "file_extension": ".py",
   "mimetype": "text/x-python",
   "name": "python",
   "nbconvert_exporter": "python",
   "pygments_lexer": "ipython3",
   "version": "3.12.5"
  }
 },
 "nbformat": 4,
 "nbformat_minor": 2
}
