{
 "cells": [
  {
   "cell_type": "code",
   "execution_count": 1,
   "metadata": {},
   "outputs": [],
   "source": [
    "import json\n",
    "from pathlib import Path"
   ]
  },
  {
   "cell_type": "code",
   "execution_count": 3,
   "metadata": {},
   "outputs": [
    {
     "data": {
      "text/plain": [
       "{'video_uid': 'e14e03f8-13e4-4df2-87b0-e1ad8a175f7c',\n",
       " 'clip_uid': 'd5935c29-1b8d-417d-9bbb-5ebd47e9256d',\n",
       " 'annotation_uid': '3760b439-d94b-4d76-8b39-1bb355800649',\n",
       " 'query_set': '3',\n",
       " 'clip_fps': 5.0,\n",
       " 'clip_duration': 480.0,\n",
       " 'original_width': 1920,\n",
       " 'original_height': 1080,\n",
       " 'query_frame': 1433,\n",
       " 'object_title': 'sellotape',\n",
       " 'visual_crop': {'fno': 0, 'x': 725.29, 'y': 611.46, 'w': 176.83, 'h': 185.12},\n",
       " 'response_track_valid_range': [1292, 1350],\n",
       " 'response_track': [{'fno': 1292,\n",
       "   'x': 1.1,\n",
       "   'y': 1007.51,\n",
       "   'w': 116.43,\n",
       "   'h': 70.69},\n",
       "  {'fno': 1293, 'x': -0.23, 'y': 926.14, 'w': 126.4, 'h': 153.53},\n",
       "  {'fno': 1294, 'x': -1.38, 'y': 881.55, 'w': 82.32, 'h': 197.79},\n",
       "  {'fno': 1295, 'x': -0.23, 'y': 811.81, 'w': 81.18, 'h': 267.54},\n",
       "  {'fno': 1296, 'x': 2.05, 'y': 784.37, 'w': 85.75, 'h': 292.69},\n",
       "  {'fno': 1297, 'x': 2.05, 'y': 784.37, 'w': 85.75, 'h': 292.69},\n",
       "  {'fno': 1298, 'x': 2.05, 'y': 784.37, 'w': 94.37, 'h': 295.25},\n",
       "  {'fno': 1299, 'x': 2.05, 'y': 784.37, 'w': 89.84, 'h': 293.75},\n",
       "  {'fno': 1300, 'x': 2.05, 'y': 784.37, 'w': 91.35, 'h': 293.75},\n",
       "  {'fno': 1301, 'x': 2.05, 'y': 797.51, 'w': 95.88, 'h': 280.6},\n",
       "  {'fno': 1302, 'x': 2.05, 'y': 797.51, 'w': 101.91, 'h': 280.6},\n",
       "  {'fno': 1303, 'x': 2.05, 'y': 797.51, 'w': 111.91, 'h': 280.6},\n",
       "  {'fno': 1304, 'x': -0.37, 'y': 778.31, 'w': 130.34, 'h': 299.81},\n",
       "  {'fno': 1305, 'x': -0.37, 'y': 778.31, 'w': 144.06, 'h': 299.81},\n",
       "  {'fno': 1306, 'x': -0.37, 'y': 778.31, 'w': 155.49, 'h': 299.81},\n",
       "  {'fno': 1307, 'x': -0.37, 'y': 778.31, 'w': 158.92, 'h': 299.81},\n",
       "  {'fno': 1308, 'x': -0.37, 'y': 778.31, 'w': 162.35, 'h': 299.81},\n",
       "  {'fno': 1309, 'x': -0.37, 'y': 764.59, 'w': 172.64, 'h': 313.53},\n",
       "  {'fno': 1310, 'x': -0.37, 'y': 764.59, 'w': 181.79, 'h': 313.53},\n",
       "  {'fno': 1311, 'x': -0.37, 'y': 756.58, 'w': 181.79, 'h': 321.53},\n",
       "  {'fno': 1312, 'x': -0.37, 'y': 756.58, 'w': 187.5, 'h': 321.53},\n",
       "  {'fno': 1313, 'x': -0.37, 'y': 756.58, 'w': 192.08, 'h': 321.53},\n",
       "  {'fno': 1314, 'x': -0.37, 'y': 740.59, 'w': 199.79, 'h': 337.53},\n",
       "  {'fno': 1315, 'x': -0.37, 'y': 737.57, 'w': 199.79, 'h': 340.55},\n",
       "  {'fno': 1316, 'x': -0.37, 'y': 737.57, 'w': 197.52, 'h': 340.55},\n",
       "  {'fno': 1317, 'x': -0.37, 'y': 742.85, 'w': 209.59, 'h': 335.27},\n",
       "  {'fno': 1318, 'x': -1.31, 'y': 747.73, 'w': 253.53, 'h': 330.39},\n",
       "  {'fno': 1319, 'x': -1.31, 'y': 810.27, 'w': 223.7, 'h': 271.8},\n",
       "  {'fno': 1320, 'x': -1.31, 'y': 875.22, 'w': 149.13, 'h': 204.45},\n",
       "  {'fno': 1321, 'x': -0.47, 'y': 912.57, 'w': 97.31, 'h': 166.7},\n",
       "  {'fno': 1322, 'x': -0.47, 'y': 903.52, 'w': 107.11, 'h': 176.51},\n",
       "  {'fno': 1323, 'x': -0.47, 'y': 892.96, 'w': 101.08, 'h': 187.07},\n",
       "  {'fno': 1324, 'x': -0.47, 'y': 871.84, 'w': 101.08, 'h': 208.19},\n",
       "  {'fno': 1325, 'x': -0.47, 'y': 874.85, 'w': 79.2, 'h': 202.16},\n",
       "  {'fno': 1326, 'x': 0.28, 'y': 837.89, 'w': 89.01, 'h': 242.13},\n",
       "  {'fno': 1327, 'x': 0.28, 'y': 806.21, 'w': 93.53, 'h': 273.81},\n",
       "  {'fno': 1328, 'x': 0.28, 'y': 792.63, 'w': 92.03, 'h': 283.62},\n",
       "  {'fno': 1329, 'x': 0.28, 'y': 776.04, 'w': 92.03, 'h': 300.22},\n",
       "  {'fno': 1330, 'x': -1.23, 'y': 751.15, 'w': 96.55, 'h': 328.88},\n",
       "  {'fno': 1331, 'x': 0.28, 'y': 723.24, 'w': 102.59, 'h': 353.02},\n",
       "  {'fno': 1332, 'x': 0.28, 'y': 681.0, 'w': 118.43, 'h': 399.78},\n",
       "  {'fno': 1333, 'x': 0.28, 'y': 649.32, 'w': 138.79, 'h': 431.47},\n",
       "  {'fno': 1334, 'x': 0.28, 'y': 625.18, 'w': 152.37, 'h': 455.6},\n",
       "  {'fno': 1335, 'x': 0.28, 'y': 611.6, 'w': 159.91, 'h': 469.18},\n",
       "  {'fno': 1336, 'x': 0.28, 'y': 606.32, 'w': 163.35, 'h': 473.12},\n",
       "  {'fno': 1337, 'x': 0.28, 'y': 620.2, 'w': 154.68, 'h': 459.23},\n",
       "  {'fno': 1338, 'x': 0.28, 'y': 608.07, 'w': 154.68, 'h': 471.36},\n",
       "  {'fno': 1339, 'x': -1.0, 'y': 606.34, 'w': 154.23, 'h': 471.36},\n",
       "  {'fno': 1340, 'x': -1.0, 'y': 606.34, 'w': 154.23, 'h': 471.36},\n",
       "  {'fno': 1341, 'x': -1.0, 'y': 606.34, 'w': 155.97, 'h': 471.36},\n",
       "  {'fno': 1342, 'x': -1.0, 'y': 590.61, 'w': 168.1, 'h': 487.09},\n",
       "  {'fno': 1343, 'x': -1.0, 'y': 574.55, 'w': 192.12, 'h': 503.15},\n",
       "  {'fno': 1344, 'x': -1.0, 'y': 544.65, 'w': 209.55, 'h': 533.05},\n",
       "  {'fno': 1345, 'x': 3.5, 'y': 533.66, 'w': 205.05, 'h': 507.53},\n",
       "  {'fno': 1346, 'x': 3.5, 'y': 449.47, 'w': 226.1, 'h': 497.91},\n",
       "  {'fno': 1347, 'x': -1.0, 'y': 436.95, 'w': 227.94, 'h': 487.25},\n",
       "  {'fno': 1348, 'x': 3.5, 'y': 497.58, 'w': 197.24, 'h': 449.8},\n",
       "  {'fno': 1349, 'x': 3.5, 'y': 593.79, 'w': 108.24, 'h': 355.99},\n",
       "  {'fno': 1350, 'x': -0.77, 'y': 691.05, 'w': 25.26, 'h': 156.35}]}"
      ]
     },
     "execution_count": 3,
     "metadata": {},
     "output_type": "execute_result"
    }
   ],
   "source": [
    "all_anns = json.load(open('../data/vq_v2_val_anno.json'))\n",
    "all_anns += json.load(open('../data/vq_v2_train_anno.json'))\n",
    "all_anns[0]"
   ]
  },
  {
   "cell_type": "code",
   "execution_count": 17,
   "metadata": {},
   "outputs": [
    {
     "data": {
      "text/plain": [
       "([('bottle', 599),\n",
       "  ('phone', 506),\n",
       "  ('bucket', 464),\n",
       "  ('cup', 327),\n",
       "  ('chair', 244),\n",
       "  ('container', 220),\n",
       "  ('bowl', 212),\n",
       "  ('bag', 176),\n",
       "  ('water bottle', 174),\n",
       "  ('hammer', 173)],\n",
       " ['right angle square ruler',\n",
       "  'orange towel',\n",
       "  'orange torch',\n",
       "  'water spray bottle',\n",
       "  'coil',\n",
       "  'bulb box',\n",
       "  'red jerry can',\n",
       "  'orange shock absorber',\n",
       "  'smoldering iron',\n",
       "  'wheel rim cover'],\n",
       " 2204,\n",
       " 3487,\n",
       " 18111)"
      ]
     },
     "execution_count": 17,
     "metadata": {},
     "output_type": "execute_result"
    }
   ],
   "source": [
    "from collections import Counter\n",
    "object_titles = [ann['object_title'] for ann in all_anns]\n",
    "counter = Counter(object_titles)\n",
    "unique_objects = [k for k, v in counter.items() if v == 1]\n",
    "counter.most_common(10), unique_objects[:10], len(unique_objects), len(counter), len(all_anns)"
   ]
  },
  {
   "cell_type": "code",
   "execution_count": null,
   "metadata": {},
   "outputs": [],
   "source": []
  }
 ],
 "metadata": {
  "kernelspec": {
   "display_name": "vq2d",
   "language": "python",
   "name": "python3"
  },
  "language_info": {
   "codemirror_mode": {
    "name": "ipython",
    "version": 3
   },
   "file_extension": ".py",
   "mimetype": "text/x-python",
   "name": "python",
   "nbconvert_exporter": "python",
   "pygments_lexer": "ipython3",
   "version": "3.12.4"
  }
 },
 "nbformat": 4,
 "nbformat_minor": 2
}
