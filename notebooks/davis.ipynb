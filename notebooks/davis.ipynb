{
 "cells": [
  {
   "cell_type": "code",
   "execution_count": 1,
   "metadata": {},
   "outputs": [],
   "source": [
    "import json\n",
    "import cv2\n",
    "import numpy as np\n",
    "import matplotlib.pyplot as plt\n",
    "from pathlib import Path"
   ]
  },
  {
   "cell_type": "code",
   "execution_count": null,
   "metadata": {},
   "outputs": [],
   "source": [
    "p_masks = Path('/data/datasets/DAVIS/DAVIS2016/Annotations/1080p')\n",
    "\n",
    "for split in ['val', 'train']:\n",
    "    flat_anns = []\n",
    "    anns = []\n",
    "    with open(f'/data/datasets/DAVIS/DAVIS2016/ImageSets/1080p/{split}.txt', 'r') as f:\n",
    "        all_anns = f.readlines()\n",
    "    for train in all_anns:\n",
    "        anns.append(train.strip().split(' ')[1].split('/')[-2])\n",
    "    categories = list(set(anns))\n",
    "\n",
    "    for category in categories:\n",
    "        ow, oh = 0, 0\n",
    "        p_mask = p_masks / category\n",
    "        masks = list(p_mask.glob('*.png'))\n",
    "        rt = []\n",
    "        for idx, mask in enumerate(masks):\n",
    "            \n",
    "            img = cv2.imread(str(mask), cv2.IMREAD_GRAYSCALE)\n",
    "            img2 = cv2.imread(str(mask))\n",
    "            \n",
    "            if idx == 0:\n",
    "                oh, ow = img.shape\n",
    "            \n",
    "            # Thresholding to ensure it's a binary mask (if not already binary)\n",
    "            _, binary_img = cv2.threshold(img, 1, 255, cv2.THRESH_BINARY)\n",
    "            \n",
    "            # Find contours in the binary mask\n",
    "            contours, _ = cv2.findContours(binary_img, cv2.RETR_EXTERNAL, cv2.CHAIN_APPROX_SIMPLE)\n",
    "            \n",
    "            if len(contours) > 0:\n",
    "                # Initialize variables to store the min/max coordinates\n",
    "                x_min, y_min = float('inf'), float('inf')\n",
    "                x_max, y_max = 0, 0\n",
    "                \n",
    "                # Loop through all contours to find the overall bounding box\n",
    "                for contour in contours:\n",
    "                    x, y, w, h = cv2.boundingRect(contour)\n",
    "                    \n",
    "                    # Update the minimum and maximum coordinates\n",
    "                    x_min = min(x_min, x)\n",
    "                    y_min = min(y_min, y)\n",
    "                    x_max = max(x_max, x + w)\n",
    "                    y_max = max(y_max, y + h)\n",
    "                \n",
    "                # Calculate the final bounding box coordinates (top-left corner and width/height)\n",
    "                final_x = x_min\n",
    "                final_y = y_min\n",
    "                final_w = x_max - x_min\n",
    "                final_h = y_max - y_min\n",
    "                \n",
    "                rt_dict = {\n",
    "                    'fno': idx,\n",
    "                    'x': final_x,\n",
    "                    'y': final_y,\n",
    "                    'w': final_w,\n",
    "                    'h': final_h\n",
    "                }\n",
    "                \n",
    "                rt.append(rt_dict)\n",
    "                \n",
    "                # if category == 'bear':\n",
    "                #     # Convert the image to RGB for visualization\n",
    "                #     # output_img = cv2.cvtColor(img2, cv2.COLOR_GRAY2RGB)\n",
    "                    \n",
    "                #     # Draw the single bounding box on the output image (in green with a thickness of 2)\n",
    "                #     cv2.rectangle(img2, (final_x, final_y), (final_x + final_w, final_y + final_h), (0, 255, 0), 2)\n",
    "                    \n",
    "                #     # Plot the result using matplotlib\n",
    "                #     plt.figure(figsize=(10, 10))\n",
    "                #     plt.imshow(img2)\n",
    "                #     plt.axis('off')\n",
    "                #     plt.show()\n",
    "                \n",
    "                # print(f\"Final bounding box: x={final_x}, y={final_y}, width={final_w}, height={final_h}\")\n",
    "        \n",
    "        sample = {\n",
    "                'video_uid': category,\n",
    "                'clip_uid': category,\n",
    "                'annotation_uid': category,\n",
    "                'query_set': category,\n",
    "                'clip_fps': 5,\n",
    "                'clip_duration': len(masks) / 5,\n",
    "                'original_width': ow,\n",
    "                'original_height': oh,\n",
    "                'query_frame': len(masks) - 1,\n",
    "                'object_title': category,\n",
    "                'visual_crop': rt[0],\n",
    "                'response_track_valid_range': [rt[0]['fno'], rt[-1]['fno']],\n",
    "                'response_track': rt,\n",
    "                    }\n",
    "        flat_anns.append(sample)\n",
    "\n",
    "    with open(f'/data/soyeonhong/vq2d/vq2d-lightning/data/DAIVS2016_{split}.json', 'w') as f:\n",
    "        f.write(json.dumps(flat_anns))\n",
    "            "
   ]
  },
  {
   "cell_type": "code",
   "execution_count": 3,
   "metadata": {},
   "outputs": [
    {
     "data": {
      "text/plain": [
       "(1920, 1080)"
      ]
     },
     "execution_count": 3,
     "metadata": {},
     "output_type": "execute_result"
    }
   ],
   "source": [
    "ow, oh"
   ]
  },
  {
   "cell_type": "code",
   "execution_count": null,
   "metadata": {},
   "outputs": [],
   "source": []
  }
 ],
 "metadata": {
  "kernelspec": {
   "display_name": "Python 3 (ipykernel)",
   "language": "python",
   "name": "python3"
  },
  "language_info": {
   "codemirror_mode": {
    "name": "ipython",
    "version": 3
   },
   "file_extension": ".py",
   "mimetype": "text/x-python",
   "name": "python",
   "nbconvert_exporter": "python",
   "pygments_lexer": "ipython3",
   "version": "3.12.5"
  }
 },
 "nbformat": 4,
 "nbformat_minor": 2
}
