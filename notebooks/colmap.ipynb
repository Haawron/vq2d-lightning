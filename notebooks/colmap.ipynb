{
 "cells": [
  {
   "cell_type": "code",
   "execution_count": 2,
   "metadata": {},
   "outputs": [],
   "source": [
    "import json\n",
    "\n",
    "raw_ann = json.load(open('/data/datasets/ego4d_data/ego4d.json'))"
   ]
  },
  {
   "cell_type": "code",
   "execution_count": 6,
   "metadata": {},
   "outputs": [
    {
     "data": {
      "text/plain": [
       "'0836e1a4-11e6-4b31-bd39-f8e083fdadb3'"
      ]
     },
     "metadata": {},
     "output_type": "display_data"
    },
    {
     "data": {
      "text/plain": [
       "'GoPro Hero 4'"
      ]
     },
     "metadata": {},
     "output_type": "display_data"
    },
    {
     "data": {
      "text/plain": [
       "'1440 x 1080'"
      ]
     },
     "metadata": {},
     "output_type": "display_data"
    }
   ],
   "source": [
    "import numpy as np\n",
    "import pycolmap\n",
    "from PIL import Image\n",
    "\n",
    "# Extract SIFT features from an image\n",
    "\n",
    "clip_info = raw_ann['clips']\n",
    "clip_uid = '0021cb1c-2009-4469-b4c4-76829b9c1cda'\n",
    "clip_info = [_info for _info in raw_ann['clips'] if _info['clip_uid'] == clip_uid][0]\n",
    "video_uid = clip_info['video_uid']\n",
    "video_info = [_info for _info in raw_ann['videos'] if _info['video_uid'] == video_uid][0]\n",
    "video_meta = video_info['video_metadata']\n",
    "display(clip_info['video_uid'])\n",
    "display(video_info['device'])\n",
    "display(f\"{video_meta['display_resolution_width']} x {video_meta['display_resolution_height']}\")\n",
    "\n",
    "# cam parameters of GoPro Hero 4\n",
    "# https://argus.web.unc.edu/camera-calibration-database/\n"
   ]
  },
  {
   "cell_type": "code",
   "execution_count": null,
   "metadata": {},
   "outputs": [],
   "source": []
  },
  {
   "cell_type": "code",
   "execution_count": null,
   "metadata": {},
   "outputs": [],
   "source": [
    "\n",
    "img = Image.open(f'/data/datasets/ego4d_data/v2/vq2d_frames/520ss/{clip_uid}/frame_0000659.jpg')\n",
    "width, height = img.size\n",
    "# focal_length = 500.0  # example focal length\n",
    "img = np.array(img.convert('L')).astype(np.float32) / 255.0\n",
    "sift = pycolmap.Sift()\n",
    "keypoints, descriptors = sift.extract(img)\n",
    "\n",
    "# Perform absolute pose estimation\n",
    "camera = pycolmap.Camera(\n",
    "    model='SIMPLE_PINHOLE',\n",
    "    width=width,\n",
    "    height=height,\n",
    "    # params=[focal_length, cx, cy]\n",
    ")\n",
    "points2D = np.array([[x1, y1], [x2, y2], ...])  # 2D pixel coordinates\n",
    "points3D = np.array([[X1, y2, z1], [x2, y2, z2], ...])  # 3D world coordinates\n",
    "\n",
    "result = pycolmap.absolute_pose_estimation(points2D, points3D, camera)\n",
    "\n",
    "# Access estimation results\n",
    "if result:\n",
    "    qvec = result['qvec']  # Quaternion rotation\n",
    "    tvec = result['tvec']  # Translation vector\n",
    "    num_inliers = result['num_inliers']\n",
    "\n",
    "# Perform pose refinement\n",
    "inlier_mask = np.array([True, False, True, ...])  # Boolean mask of inliers\n",
    "refined_result = pycolmap.pose_refinement(\n",
    "    result['qvec'], result['tvec'],\n",
    "    points2D, points3D, inlier_mask, camera\n",
    ")\n",
    "\n",
    "# Estimate fundamental matrix\n",
    "points1 = np.array([[x1, y1], [x2, y2], ...])  # Points in image 1\n",
    "points2 = np.array([[x1, y1], [x2, y2], ...])  # Corresponding points in image 2\n",
    "F_result = pycolmap.fundamental_matrix_estimation(points1, points2)\n",
    "\n",
    "if F_result:\n",
    "    F = F_result['F']  # 3x3 fundamental matrix\n",
    "    inliers = F_result['inliers']  # Inlier mask"
   ]
  }
 ],
 "metadata": {
  "kernelspec": {
   "display_name": "vq2d",
   "language": "python",
   "name": "python3"
  },
  "language_info": {
   "codemirror_mode": {
    "name": "ipython",
    "version": 3
   },
   "file_extension": ".py",
   "mimetype": "text/x-python",
   "name": "python",
   "nbconvert_exporter": "python",
   "pygments_lexer": "ipython3",
   "version": "3.12.4"
  }
 },
 "nbformat": 4,
 "nbformat_minor": 2
}
